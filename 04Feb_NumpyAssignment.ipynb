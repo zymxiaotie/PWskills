{
  "nbformat": 4,
  "nbformat_minor": 0,
  "metadata": {
    "colab": {
      "provenance": [],
      "collapsed_sections": [
        "oI7mRI0k9X0T"
      ]
    },
    "kernelspec": {
      "name": "python3",
      "display_name": "Python 3"
    },
    "language_info": {
      "name": "python"
    }
  },
  "cells": [
    {
      "cell_type": "markdown",
      "source": [
        "1. What is a Python library? Why do we use Python libraries?\n",
        "- answer: Python libraries are collections of pre-written code and functions that extend the capabilities of the Python programming language.Using Python libraries makes it convenient for the us as we don't have to write the same code multiple times for different programs.\n",
        "\n"
      ],
      "metadata": {
        "id": "1P7qOgGs2kiQ"
      }
    },
    {
      "cell_type": "markdown",
      "source": [
        "2. What is the difference between Numpy array and List?\n",
        "\n",
        "|Numpy Array|\tPython List|\n",
        "|-|-|\n",
        "|It is the core Library of python which is used for scientific computing.\t|The core library of python provides list.|\n",
        "|It can contain similar datatypes.\t|It Contains different types of datatypes.|\n",
        "|We need to Numpy Library to access Numpy Arrays.|It is built-in function of python.|\n",
        "|It is Homogeneous.|\tIt is both homogeneous and heterogeneous.|\n",
        "|In this Element wise operation is possible.|\tElement wise operation is not possible on the list.|\n",
        "|By using numpy.array() we can create N-Dimensional array.|\tIt is by default 1-dimensional.In some cases, we can create an N-Dimensional list. But it is a long process.|\n",
        "|It requires smaller memory consumption as compared to Python List.\t|It requires more memory as compared to Numpy Array.|\n",
        "|In this each item is stored in a sequential manner.|\tIt stores item in random location of  the memory.|\n",
        "|It is faster as compared to list.\t|It is slow as compared to NumPy Array.|\n",
        "|It also have some optimism function .|\tIt does not have some optimism function .|"
      ],
      "metadata": {
        "id": "qriyVx952qoN"
      }
    },
    {
      "cell_type": "code",
      "source": [
        "'''3. Find the shape, size and dimension of the following array?\n",
        "[[1, 2, 3, 4]\n",
        "[5, 6, 7, 8],\n",
        "[9, 10, 11, 12]]\n",
        "'''\n",
        "\n",
        "import numpy as np\n",
        "\n",
        "arr = np.array([ [1, 2, 3, 4],\n",
        "        [5, 6, 7, 8],\n",
        "        [9, 10, 11, 12]])\n",
        "print(arr.shape,'\\n',\n",
        "      arr.size, '\\n',\n",
        "      arr.ndim)"
      ],
      "metadata": {
        "colab": {
          "base_uri": "https://localhost:8080/"
        },
        "id": "eTtYs2q82pQa",
        "outputId": "9e3b2e97-21f9-4e16-bea2-bf1abcb166e9"
      },
      "execution_count": 11,
      "outputs": [
        {
          "output_type": "stream",
          "name": "stdout",
          "text": [
            "(3, 4) \n",
            " 12 \n",
            " 2\n"
          ]
        }
      ]
    },
    {
      "cell_type": "code",
      "source": [
        "'''4. Write python co^e to access the first row of the following array?\n",
        "[[1, 2, 3, 4]\n",
        "[5, 6, 7, 8],\n",
        "[9, 10, 11, 12]]'''\n",
        "\n",
        "arr = np.array([[1, 2, 3, 4],\n",
        "                [5, 6, 7, 8],\n",
        "                [9, 10, 11, 12]])\n",
        "\n",
        "arr[0]"
      ],
      "metadata": {
        "colab": {
          "base_uri": "https://localhost:8080/"
        },
        "id": "XWYkhW3I52x4",
        "outputId": "26da8ef5-b82d-4622-d0aa-bea96bf47eb8"
      },
      "execution_count": 12,
      "outputs": [
        {
          "output_type": "execute_result",
          "data": {
            "text/plain": [
              "array([1, 2, 3, 4])"
            ]
          },
          "metadata": {},
          "execution_count": 12
        }
      ]
    },
    {
      "cell_type": "code",
      "source": [
        "'''5. How ^o you access the element at the thir^ row an^ fourth column from the given numpy array?\n",
        "[[1, 2, 3, 4]\n",
        "[5, 6, 7, 8],\n",
        "[9, 10, 11, 12]]'''\n",
        "\n",
        "arr = np.array([[1, 2, 3, 4],\n",
        "                [5, 6, 7, 8],\n",
        "                [9, 10, 11, 12]])\n",
        "\n",
        "arr[0, 3]"
      ],
      "metadata": {
        "colab": {
          "base_uri": "https://localhost:8080/"
        },
        "id": "-3EDBdZ-6Jkj",
        "outputId": "2beb14cd-6a8c-436b-cc0a-f0ce67943759"
      },
      "execution_count": 14,
      "outputs": [
        {
          "output_type": "execute_result",
          "data": {
            "text/plain": [
              "4"
            ]
          },
          "metadata": {},
          "execution_count": 14
        }
      ]
    },
    {
      "cell_type": "code",
      "source": [
        "'''6. Write code to extract all odd-indexed elements from the given numpy array?\n",
        "[[1, 2, 3, 4]\n",
        "[5, 6, 7, 8],\n",
        "[9, 10, 11, 12]]'''\n",
        "\n",
        "for i in range(arr.shape[0]):\n",
        "  for j in range(arr.shape[1]):\n",
        "    if (i%2  != 0) & (j%2 !=0):\n",
        "      print(arr[i,j])\n",
        "\n"
      ],
      "metadata": {
        "colab": {
          "base_uri": "https://localhost:8080/"
        },
        "id": "lLpFmUTc6acR",
        "outputId": "cdc62682-f728-4914-b1a4-3435d6bb6068"
      },
      "execution_count": 20,
      "outputs": [
        {
          "output_type": "stream",
          "name": "stdout",
          "text": [
            "6\n",
            "8\n"
          ]
        }
      ]
    },
    {
      "cell_type": "code",
      "source": [
        "# 7. How can you generate a random 3x3 matrix with values between 0 and 1?\n",
        "mt = np.random.random(size=[3,3])\n",
        "mt"
      ],
      "metadata": {
        "colab": {
          "base_uri": "https://localhost:8080/"
        },
        "id": "t1n7MlIO8Dxj",
        "outputId": "53dc6eb6-2068-4a39-9bc3-5e81247af16c"
      },
      "execution_count": 24,
      "outputs": [
        {
          "output_type": "execute_result",
          "data": {
            "text/plain": [
              "array([[0.47166131, 0.39798078, 0.74726149],\n",
              "       [0.17653727, 0.28648339, 0.25018536],\n",
              "       [0.99139543, 0.72666176, 0.78118414]])"
            ]
          },
          "metadata": {},
          "execution_count": 24
        }
      ]
    },
    {
      "cell_type": "markdown",
      "source": [
        "8. Describe the difference between np.random.rand and np.random.randn?\n",
        "randn generates samples from the normal distribution, while numpy. random. rand from a uniform distribution (in the range [0,1))"
      ],
      "metadata": {
        "id": "oI7mRI0k9X0T"
      }
    },
    {
      "cell_type": "code",
      "source": [
        "'''9. Write co^e to increase the ^imension of the following array?\n",
        "[[1, 2, 3, 4]\n",
        "[5, 6, 7, 8],\n",
        "[9, 10, 11, 12]]'''\n",
        "\n",
        "arr9 = np.array([[1, 2, 3, 4],\n",
        "                [5, 6, 7, 8],\n",
        "                [9, 10, 11, 12]])\n",
        "np. expand_dims(arr9, axis=0)"
      ],
      "metadata": {
        "colab": {
          "base_uri": "https://localhost:8080/"
        },
        "id": "m9O-lslm-Jmo",
        "outputId": "a8f9e6ad-7f32-42c5-e697-f403e0e999af"
      },
      "execution_count": 28,
      "outputs": [
        {
          "output_type": "execute_result",
          "data": {
            "text/plain": [
              "array([[[ 1,  2,  3,  4],\n",
              "        [ 5,  6,  7,  8],\n",
              "        [ 9, 10, 11, 12]]])"
            ]
          },
          "metadata": {},
          "execution_count": 28
        }
      ]
    },
    {
      "cell_type": "code",
      "source": [
        "'''10. How to transpose the following array in NumPy?\n",
        "[[1, 2, 3, 4]\n",
        "[5, 6, 7, 8],\n",
        "[9, 10, 11, 12]]'''\n",
        "\n",
        "arr = np.array([[1, 2, 3, 4],\n",
        "                [5, 6, 7, 8],\n",
        "                [9, 10, 11, 12]])\n",
        "\n",
        "arr.T"
      ],
      "metadata": {
        "colab": {
          "base_uri": "https://localhost:8080/"
        },
        "id": "78BR-_0Q-vcA",
        "outputId": "e4ee0368-a424-40e9-cfb4-bb1e01c22257"
      },
      "execution_count": 29,
      "outputs": [
        {
          "output_type": "execute_result",
          "data": {
            "text/plain": [
              "array([[ 1,  5,  9],\n",
              "       [ 2,  6, 10],\n",
              "       [ 3,  7, 11],\n",
              "       [ 4,  8, 12]])"
            ]
          },
          "metadata": {},
          "execution_count": 29
        }
      ]
    },
    {
      "cell_type": "code",
      "source": [
        "'''\n",
        "11. Consider the following matrix:\n",
        "Matrix A: [[1, 2, 3, 4] [5, 6, 7, 8],[9, 10, 11, 12]]\n",
        "Matrix B: [[1, 2, 3, 4] [5, 6, 7, 8],[9, 10, 11, 12]]\n",
        "Perform the following operation using Python\n",
        "1. Index wise multiplication\n",
        "2. Matix multiplication\n",
        "3. Add both the matix\n",
        "4. Subtact matix B from A\n",
        "5. Divde Matix B by A\n",
        "'''\n",
        "A = np.array([[1, 2, 3, 4], [5, 6, 7, 8],[9, 10, 11, 12]])\n",
        "B = np.array([[1, 2, 3, 4], [5, 6, 7, 8],[9, 10, 11, 12]])\n",
        "\n",
        "#1\n",
        "print(\"1: \\n\", np.multiply(A, B))\n",
        "\n",
        "#2\n",
        "print(\"2: \\n\", np.dot(A,B.T))\n",
        "\n",
        "#  3\n",
        "print(\"3: \\n\", np.add(A,B))\n",
        "\n",
        "#4\n",
        "print(\"4: \\n\", A-B)\n",
        "\n",
        "#5\n",
        "print(\"5: \\n\", B/A)"
      ],
      "metadata": {
        "colab": {
          "base_uri": "https://localhost:8080/"
        },
        "id": "i1yK2VJ5-8TH",
        "outputId": "5a1ae6f0-ea7b-4caf-dc94-1630b1b3b9f9"
      },
      "execution_count": 42,
      "outputs": [
        {
          "output_type": "stream",
          "name": "stdout",
          "text": [
            "1: \n",
            " [[  1   4   9  16]\n",
            " [ 25  36  49  64]\n",
            " [ 81 100 121 144]]\n",
            "2: \n",
            " [[ 30  70 110]\n",
            " [ 70 174 278]\n",
            " [110 278 446]]\n",
            "3: \n",
            " [[ 2  4  6  8]\n",
            " [10 12 14 16]\n",
            " [18 20 22 24]]\n",
            "4: \n",
            " [[0 0 0 0]\n",
            " [0 0 0 0]\n",
            " [0 0 0 0]]\n",
            "5: \n",
            " [[1. 1. 1. 1.]\n",
            " [1. 1. 1. 1.]\n",
            " [1. 1. 1. 1.]]\n"
          ]
        }
      ]
    },
    {
      "cell_type": "markdown",
      "source": [
        "12. Which function in Numpy can be used to swap the byte order of an array?<br>\n",
        "answer: ndarray.byteswap(inplace=False): Swap the bytes of the array elements\n",
        "\n",
        "13. What is the significance of the np.linalg.inv function?<br>\n",
        "answer: NumPy linalg. inv() function in Python is used to compute the (multiplicative) inverse of a matrix.\n",
        "\n",
        "14. What does the np.reshape function do, and how is it used?<br>\n",
        "answer: You can think of reshaping as first raveling the array (using the given index order), then inserting the elements from the raveled array into the new array\n",
        "\n",
        "15. What is broadcasting in Numpy?<br>\n",
        "answer: broadcasting refers to the ability of NumPy to treat arrays of different shapes during arithmetic operations. Arithmetic operations on arrays are usually done on corresponding elements"
      ],
      "metadata": {
        "id": "auefDq0_4uMx"
      }
    },
    {
      "cell_type": "code",
      "source": [],
      "metadata": {
        "id": "OHv6sV44Ei_L"
      },
      "execution_count": null,
      "outputs": []
    }
  ]
}