{
  "nbformat": 4,
  "nbformat_minor": 0,
  "metadata": {
    "colab": {
      "provenance": []
    },
    "kernelspec": {
      "name": "python3",
      "display_name": "Python 3"
    },
    "language_info": {
      "name": "python"
    }
  },
  "cells": [
    {
      "cell_type": "markdown",
      "source": [
        "Problem 1.Given an array of n numbers, give an algorithm which gives the element appearing maximum\n",
        "number of times?\n",
        "\n",
        "\n"
      ],
      "metadata": {
        "id": "zHHCrT1Mb8Wu"
      }
    },
    {
      "cell_type": "code",
      "source": [
        "arr = [3,4,5, 2,8, 1, 10, 6, 6,6, 8,8,8,8]\n",
        "\n",
        "def bubble_sort(arr):\n",
        "  for i in range(len(arr)-1, 0, -1):\n",
        "    for j in range(i):\n",
        "      if arr[j] > arr[j+1]:\n",
        "        arr[j], arr[j+1] = arr[j+1], arr[j]\n",
        "  return arr\n",
        "\n",
        "# def selection_sort(arr):\n",
        "\n",
        "def mostFreq(arr):\n",
        "  bubble_sort(arr)\n",
        "  print(arr)\n",
        "  max_freq = 0\n",
        "  max_element = None\n",
        "  count =1\n",
        "  for i in range(1,len(arr)):\n",
        "    if arr[i-1]== arr[i]:\n",
        "      count+=1\n",
        "    else:\n",
        "      count =1\n",
        "    if count > max_freq:\n",
        "      max_freq=count\n",
        "      max_element = arr[i]\n",
        "\n",
        "  return max_element\n",
        "\n",
        "\n",
        "mostFreq(arr)\n",
        "\n"
      ],
      "metadata": {
        "id": "nruKl9Xhb-EW",
        "colab": {
          "base_uri": "https://localhost:8080/"
        },
        "outputId": "71c5dc47-e59c-47a0-fce9-d6e5ca2b6adb"
      },
      "execution_count": 7,
      "outputs": [
        {
          "output_type": "stream",
          "name": "stdout",
          "text": [
            "[1, 2, 3, 4, 5, 6, 6, 6, 8, 8, 8, 8, 8, 10]\n"
          ]
        },
        {
          "output_type": "execute_result",
          "data": {
            "text/plain": [
              "8"
            ]
          },
          "metadata": {},
          "execution_count": 7
        }
      ]
    },
    {
      "cell_type": "markdown",
      "source": [
        "Problem 2 : We are given a list of n-1 integers and these integers are in the range of 1 to n . There are no\n",
        "duplicates in the list. One of the integers is missing in the list. Give an algorithm to find that element Ex:\n",
        "[1,2,4,6,3,7,8] 5 is the missing num.\n",
        "\n",
        "\n"
      ],
      "metadata": {
        "id": "0qCWkoUqb_W1"
      }
    },
    {
      "cell_type": "code",
      "source": [
        "arr = [0,1,2,4,6,3,7,8]\n",
        "\n",
        "def selection_sort(arr):\n",
        "  for i in range(len(arr)):\n",
        "    min=i\n",
        "    for j in range(i, len(arr)):\n",
        "      if arr[i]>arr[j]:\n",
        "        arr[i], arr[j] = arr[j], arr[i]\n",
        "  return arr\n",
        "\n",
        "def missing_num(arr):\n",
        "  arr = selection_sort(arr)\n",
        "  for i in range(len(arr)-1):\n",
        "    if arr[i] + 1 != arr[i+1]:\n",
        "      return arr[i]+1\n",
        "\n",
        "missing_num(arr)\n",
        "\n",
        "\n"
      ],
      "metadata": {
        "id": "zdFPwOOBcA9V",
        "colab": {
          "base_uri": "https://localhost:8080/"
        },
        "outputId": "fdfe0efc-6f8d-4db9-8cb4-78553931099b"
      },
      "execution_count": 2,
      "outputs": [
        {
          "output_type": "execute_result",
          "data": {
            "text/plain": [
              "5"
            ]
          },
          "metadata": {},
          "execution_count": 2
        }
      ]
    },
    {
      "cell_type": "markdown",
      "source": [
        "Problem 3 : Given an array of n positive numbers. All numbers occurs even number of times except 1 which\n",
        "occurs odd number of times. Find that number in O(n) time and O(1) space. Ex: [1,2,3,2,3,1,3]. 3 is repeats odd\n",
        "times.\n",
        "\n",
        "\n"
      ],
      "metadata": {
        "id": "syXxGkkhcBa_"
      }
    },
    {
      "cell_type": "code",
      "source": [
        "arr =  [1,2,4,5,4,5,3,2,3,1,3]\n",
        "\n",
        "def get_odd_occurence(arr):\n",
        "  res = 0\n",
        "  for element in arr:\n",
        "    res = res ^ element\n",
        "    print(\"res:\",res, \"element:\", element)\n",
        "\n",
        "  return res\n",
        "\n",
        "\n",
        "get_odd_occurence(arr)"
      ],
      "metadata": {
        "id": "R7SmqrlVcC29",
        "colab": {
          "base_uri": "https://localhost:8080/"
        },
        "outputId": "2b6690db-9128-4810-823d-fd524498ad7d"
      },
      "execution_count": 5,
      "outputs": [
        {
          "output_type": "stream",
          "name": "stdout",
          "text": [
            "res: 1 element: 1\n",
            "res: 3 element: 2\n",
            "res: 0 element: 3\n",
            "res: 2 element: 2\n",
            "res: 1 element: 3\n",
            "res: 0 element: 1\n",
            "res: 3 element: 3\n"
          ]
        },
        {
          "output_type": "execute_result",
          "data": {
            "text/plain": [
              "3"
            ]
          },
          "metadata": {},
          "execution_count": 5
        }
      ]
    },
    {
      "cell_type": "markdown",
      "source": [
        "Problem 4 : Given an array of n elements. Find two elements in the array such that their sum is equal to given\n",
        "element K.\n",
        "\n",
        "\n"
      ],
      "metadata": {
        "id": "LduVh-xYcDWA"
      }
    },
    {
      "cell_type": "code",
      "source": [
        "arr = [1, 2, 3, 4,9]\n",
        "\n",
        "def sum_elements(arr):\n",
        "  for i in range(len(arr)):\n",
        "    for j in range(i+1,len(arr)):\n",
        "      for k in range(j, len(arr)):\n",
        "        if arr[i] + arr[j] == arr[k]:\n",
        "          return arr[i], arr[j]\n",
        "\n",
        "sum_elements(arr)\n"
      ],
      "metadata": {
        "id": "RoLuVB3rcEmv",
        "colab": {
          "base_uri": "https://localhost:8080/"
        },
        "outputId": "e8f63e96-45ca-44b9-b6fb-5e4c378f1c7a"
      },
      "execution_count": 14,
      "outputs": [
        {
          "output_type": "execute_result",
          "data": {
            "text/plain": [
              "(1, 2)"
            ]
          },
          "metadata": {},
          "execution_count": 14
        }
      ]
    },
    {
      "cell_type": "markdown",
      "source": [
        "Problem 5 : Given an array of both positive and negative numbers, find two numbers such that their sum is\n",
        "closest to 0. Ex: [ 1 ,60 ,-10, 70, -80,85]. Ans : -80,85.\n",
        "\n",
        "\n"
      ],
      "metadata": {
        "id": "0BL09_j3cGQ6"
      }
    },
    {
      "cell_type": "code",
      "source": [
        "arr = [ 1 ,60 ,-10, 70, -80,85]\n",
        "\n",
        "def closest_0(arr):\n",
        "  min = 999\n",
        "  e1=None\n",
        "  e2=None\n",
        "  for i in range(len(arr)):\n",
        "    for j in range(i+1, len(arr)):\n",
        "      sum = arr[i] + arr[j]\n",
        "      if abs(sum) < min:\n",
        "        min=abs(sum)\n",
        "        e1,e2 = arr[i],arr[j]\n",
        "  return e1,e2\n",
        "\n",
        "\n",
        "closest_0(arr)"
      ],
      "metadata": {
        "id": "XYqjiFROcGme",
        "colab": {
          "base_uri": "https://localhost:8080/"
        },
        "outputId": "704d3616-d538-420a-8a1b-e773fea02a36"
      },
      "execution_count": 24,
      "outputs": [
        {
          "output_type": "execute_result",
          "data": {
            "text/plain": [
              "(-80, 85)"
            ]
          },
          "metadata": {},
          "execution_count": 24
        }
      ]
    },
    {
      "cell_type": "markdown",
      "source": [
        "Problem 6 : Given an array of n elements . Find three elements such that their sum is equal to the given\n",
        "number"
      ],
      "metadata": {
        "id": "DSG-PuyucIwp"
      }
    },
    {
      "cell_type": "code",
      "source": [
        "def find_three_numbers(arr, x):\n",
        "  n = len(arr)\n",
        "  for i in range(0, n - 2):\n",
        "      for j in range(i + 1, n - 1):\n",
        "          for k in range(j + 1, n):\n",
        "              if arr[i] + arr[j] + arr[k] == x:\n",
        "                  return arr[i], arr[j], arr[k]\n",
        "  return -1, -1, -1\n",
        "\n",
        "arr = [1, 2, 3, 4,9,6]\n",
        "find_three_numbers(arr,  6)\n"
      ],
      "metadata": {
        "id": "smLieZWtcKVl",
        "colab": {
          "base_uri": "https://localhost:8080/"
        },
        "outputId": "1ce99a86-c570-480f-951f-a0a6eb20775e"
      },
      "execution_count": 27,
      "outputs": [
        {
          "output_type": "execute_result",
          "data": {
            "text/plain": [
              "(1, 2, 3)"
            ]
          },
          "metadata": {},
          "execution_count": 27
        }
      ]
    },
    {
      "cell_type": "markdown",
      "source": [
        "Problem 7 : Given an array of n elements . Find three elements i, j, k in the array such that\n",
        "\n",
        "i * i + j * j = k*k.\n",
        "\n",
        "\n"
      ],
      "metadata": {
        "id": "7bLXRwWycK80"
      }
    },
    {
      "cell_type": "code",
      "source": [
        "def find_3_elements(arr):\n",
        "  n = len(arr)\n",
        "  for i in range(n):\n",
        "    for j in range(i+1, n):\n",
        "      for k in range(j+1,n):\n",
        "        if (arr[i]*arr[i] + arr[j]*arr[j] == arr[k]*arr[k]):\n",
        "          return arr[i], arr[j], arr[k]\n",
        "  return -1, -1, -1\n",
        "\n",
        "arr = [1, 2, 3, 4, 5, 6, 9, 10, 14]\n",
        "\n",
        "find_3_elements(arr)\n"
      ],
      "metadata": {
        "id": "lH8QqifZcNMO",
        "colab": {
          "base_uri": "https://localhost:8080/"
        },
        "outputId": "2be0ebcb-a3f9-410b-efe7-418828a25a12"
      },
      "execution_count": 34,
      "outputs": [
        {
          "output_type": "execute_result",
          "data": {
            "text/plain": [
              "(3, 4, 5)"
            ]
          },
          "metadata": {},
          "execution_count": 34
        }
      ]
    },
    {
      "cell_type": "markdown",
      "source": [
        "Problem 8 : An element is a majority if it appears more than n/2 times. Give an algorithm takes an array of n\n",
        "element as argument and identifies a majority (if it exists).\n",
        "\n",
        "\n"
      ],
      "metadata": {
        "id": "t9rFi-TrcNu8"
      }
    },
    {
      "cell_type": "code",
      "source": [
        "def check_majority(arr):\n",
        "  n = len(arr)\n",
        "  majority = None\n",
        "  count = 0\n",
        "  for i in arr:\n",
        "    if count == 0:\n",
        "      majority = i\n",
        "    if i == majority:\n",
        "      count +=1\n",
        "    if count > 1/2:\n",
        "      return majority\n",
        "    else:\n",
        "      return None\n",
        "\n",
        "arr = [0,0,1,2,2,0,0,0,0,]\n",
        "check_majority(arr)\n"
      ],
      "metadata": {
        "id": "LQoQLnGrcPUV",
        "colab": {
          "base_uri": "https://localhost:8080/"
        },
        "outputId": "518c404d-a556-446d-fccb-c231e5bec48a"
      },
      "execution_count": 35,
      "outputs": [
        {
          "output_type": "execute_result",
          "data": {
            "text/plain": [
              "0"
            ]
          },
          "metadata": {},
          "execution_count": 35
        }
      ]
    },
    {
      "cell_type": "markdown",
      "source": [
        "Problem 9 : Given n × n matrix, and in each row all 1’s are followed by 0’s. Find the row with the maximum\n",
        "number of 0’s.\n",
        "\n",
        "\n"
      ],
      "metadata": {
        "id": "HM1WGwKacQ6m"
      }
    },
    {
      "cell_type": "code",
      "source": [
        "def max_zero_row(matrix):\n",
        "  m = 0\n",
        "  count=0\n",
        "  for i in matrix[0]:\n",
        "    for j in matrix[1]:\n",
        "      if j==0:\n",
        "        count+=1\n",
        "    if count>m:\n",
        "      m=count\n",
        "      return i\n",
        "\n",
        "matrix = [[0,0,0],\n",
        "          [0,1,0],\n",
        "          [1,1,0]]\n",
        "\n",
        "max_zero_row(matrix)"
      ],
      "metadata": {
        "id": "OL29yNf6cRUV",
        "colab": {
          "base_uri": "https://localhost:8080/"
        },
        "outputId": "955636fe-26b7-41e5-cbfb-5761c3787618"
      },
      "execution_count": 43,
      "outputs": [
        {
          "output_type": "execute_result",
          "data": {
            "text/plain": [
              "0"
            ]
          },
          "metadata": {},
          "execution_count": 43
        }
      ]
    },
    {
      "cell_type": "markdown",
      "source": [
        "Problem 10 : Sort an array of 0’s, 1’s and 2’s [or R’s, G’s and B’s]: Given an array A[] consisting of 0’s, 1’s and\n",
        "2’s, give an algorithm for sorting A[].The algorithm should put all 0’s first, then all 1’s and finally all 2’s at the\n",
        "end. Example Input = {0,1,1,0,1,2,1,2,0,0,0,1}, Output = {0,0,0,0,0,1,1,1,1,1,2,2}"
      ],
      "metadata": {
        "id": "5arTIiHfcS9X"
      }
    },
    {
      "cell_type": "code",
      "source": [
        "def sort_012(arr):\n",
        "  low = 0\n",
        "  high = len(arr)-1\n",
        "  mid = 0\n",
        "  while mid<=high:\n",
        "    if arr[mid]==0:\n",
        "      arr[low], arr[mid] = arr[mid], arr[low]\n",
        "      low+=1\n",
        "      mid+=1\n",
        "    elif arr[mid] == 1:\n",
        "      mid+=1\n",
        "    else:\n",
        "      arr[mid], arr[high] = arr[high], arr[mid]\n",
        "      # mid+=1\n",
        "      high-=1\n",
        "  return arr\n",
        "\n",
        "arr = [0,1,1,0,1,2,1,2,0,0,0,1]\n",
        "sort_012(arr)"
      ],
      "metadata": {
        "id": "tTKMVlatcTkt",
        "colab": {
          "base_uri": "https://localhost:8080/"
        },
        "outputId": "2c756a20-d58b-4959-dd8e-e2b9405ef2b3"
      },
      "execution_count": 9,
      "outputs": [
        {
          "output_type": "execute_result",
          "data": {
            "text/plain": [
              "[0, 0, 0, 0, 0, 1, 1, 1, 1, 1, 2, 2]"
            ]
          },
          "metadata": {},
          "execution_count": 9
        }
      ]
    },
    {
      "cell_type": "code",
      "source": [],
      "metadata": {
        "id": "A9FifVJfAVMs"
      },
      "execution_count": null,
      "outputs": []
    }
  ]
}