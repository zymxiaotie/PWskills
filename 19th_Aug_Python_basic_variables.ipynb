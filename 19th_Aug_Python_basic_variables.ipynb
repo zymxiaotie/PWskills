{
 "cells": [
  {
   "cell_type": "markdown",
   "id": "569229ac-01df-49bd-b7a6-d5555442d08b",
   "metadata": {},
   "source": [
    "# Declare two variables, `x` and `y`, and assign them integer values. Swap the values of these variables without using any temporary variable."
   ]
  },
  {
   "cell_type": "code",
   "execution_count": 9,
   "id": "d8fbae1e-bde5-47a3-a843-5b0966e4bbcc",
   "metadata": {},
   "outputs": [],
   "source": [
    "x, y = 3,4"
   ]
  },
  {
   "cell_type": "code",
   "execution_count": 10,
   "id": "58acbaff-44a3-4da6-81cd-f9c757f523ae",
   "metadata": {},
   "outputs": [],
   "source": [
    "x, y = 4,3"
   ]
  },
  {
   "cell_type": "code",
   "execution_count": 11,
   "id": "c5a0d049-205f-488c-b467-3c90af7e397d",
   "metadata": {},
   "outputs": [
    {
     "data": {
      "text/plain": [
       "4"
      ]
     },
     "execution_count": 11,
     "metadata": {},
     "output_type": "execute_result"
    }
   ],
   "source": [
    "x"
   ]
  },
  {
   "cell_type": "markdown",
   "id": "da82ac28-928f-4ea6-8cfb-7621f6d75a6c",
   "metadata": {},
   "source": [
    "# Create a program that calculates the area of a rectangle. Take the length and width as inputs from the user and store them in variables. Calculate and display the area. "
   ]
  },
  {
   "cell_type": "code",
   "execution_count": 12,
   "id": "5589342c-9779-4a31-a5ec-bea8b0a0de27",
   "metadata": {},
   "outputs": [
    {
     "name": "stdin",
     "output_type": "stream",
     "text": [
      " 30\n",
      " 40\n"
     ]
    }
   ],
   "source": [
    "l = float(input())\n",
    "w = float(input())"
   ]
  },
  {
   "cell_type": "code",
   "execution_count": 13,
   "id": "e3203a7d-7ad1-4fe2-acb0-13cbf858370a",
   "metadata": {},
   "outputs": [],
   "source": [
    "area = l*w"
   ]
  },
  {
   "cell_type": "code",
   "execution_count": 14,
   "id": "34d659b5-ec89-47c4-b97f-53bd15a42b4d",
   "metadata": {},
   "outputs": [
    {
     "data": {
      "text/plain": [
       "1200.0"
      ]
     },
     "execution_count": 14,
     "metadata": {},
     "output_type": "execute_result"
    }
   ],
   "source": [
    "area"
   ]
  },
  {
   "cell_type": "markdown",
   "id": "30f0a5d7-16d9-43b5-993c-2138c945dd08",
   "metadata": {},
   "source": [
    "# Write a Python program that converts temperatures from Celsius to Fahrenheit. Take the temperature in Celsius as input, store it in a variable, convert it to Fahrenheit, and display the result."
   ]
  },
  {
   "cell_type": "code",
   "execution_count": 16,
   "id": "38da0b81-a374-4974-bca9-7852827b52ec",
   "metadata": {},
   "outputs": [],
   "source": [
    "def Fahr(t):\n",
    "    T = (t*9/5)+32\n",
    "    return T\n"
   ]
  },
  {
   "cell_type": "code",
   "execution_count": 17,
   "id": "67c08d9c-0267-4d14-99b2-2f54be28d560",
   "metadata": {},
   "outputs": [
    {
     "data": {
      "text/plain": [
       "86.0"
      ]
     },
     "execution_count": 17,
     "metadata": {},
     "output_type": "execute_result"
    }
   ],
   "source": [
    "Fahr(30)"
   ]
  },
  {
   "cell_type": "code",
   "execution_count": null,
   "id": "7fc2f34d-3b41-4094-ae25-d8d1aefc0e07",
   "metadata": {},
   "outputs": [],
   "source": []
  }
 ],
 "metadata": {
  "kernelspec": {
   "display_name": "Python 3 (ipykernel)",
   "language": "python",
   "name": "python3"
  },
  "language_info": {
   "codemirror_mode": {
    "name": "ipython",
    "version": 3
   },
   "file_extension": ".py",
   "mimetype": "text/x-python",
   "name": "python",
   "nbconvert_exporter": "python",
   "pygments_lexer": "ipython3",
   "version": "3.10.8"
  }
 },
 "nbformat": 4,
 "nbformat_minor": 5
}
